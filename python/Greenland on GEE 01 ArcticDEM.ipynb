{
 "metadata": {
  "language_info": {
   "codemirror_mode": {
    "name": "ipython",
    "version": 3
   },
   "file_extension": ".py",
   "mimetype": "text/x-python",
   "name": "python",
   "nbconvert_exporter": "python",
   "pygments_lexer": "ipython3",
   "version": "3.8.0-final"
  },
  "orig_nbformat": 2,
  "kernelspec": {
   "name": "python3",
   "display_name": "Python 3",
   "language": "python"
  }
 },
 "nbformat": 4,
 "nbformat_minor": 2,
 "cells": [
  {
   "source": [
    "ArcticDEM"
   ],
   "cell_type": "markdown",
   "metadata": {}
  },
  {
   "cell_type": "code",
   "execution_count": null,
   "metadata": {},
   "outputs": [],
   "source": [
    "import ee\n",
    "import geemap\n",
    "# ee.Initialize()"
   ]
  },
  {
   "cell_type": "code",
   "execution_count": 19,
   "metadata": {},
   "outputs": [
    {
     "output_type": "display_data",
     "data": {
      "text/plain": "Map(center=[40, -100], controls=(WidgetControl(options=['position', 'transparent_bg'], widget=HBox(children=(T…",
      "application/vnd.jupyter.widget-view+json": {
       "version_major": 2,
       "version_minor": 0,
       "model_id": "d353373beb5d46ff92a28d147f9e8783"
      }
     },
     "metadata": {}
    }
   ],
   "source": [
    "Map = geemap.Map()\n",
    "Map"
   ]
  },
  {
   "cell_type": "code",
   "execution_count": 20,
   "metadata": {},
   "outputs": [],
   "source": [
    "greenlandmask = ee.Image('OSU/GIMP/2000_ICE_OCEAN_MASK') \\\n",
    "                   .select('ocean_mask').eq(0); #'ice_mask', 'ocean_mask'\n",
    "arcticDEM = ee.Image('UMN/PGC/ArcticDEM/V3/2m_mosaic')\n",
    "\n",
    "arcticDEMgreenland = arcticDEM.updateMask(greenlandmask)\n",
    "visPara = {'min': -50.0,  'max': 2000.0, 'palette': ['0d13d8', '60e1ff', 'ffffff']}\n",
    "Map.addLayer(arcticDEMgreenland, visPara, 'Arctic DEM')\n",
    "Map.setCenter(-41.0, 74.0, 3)"
   ]
  },
  {
   "cell_type": "code",
   "execution_count": 21,
   "metadata": {},
   "outputs": [],
   "source": [
    "colors = visPara['palette']\n",
    "vmin = visPara['min']\n",
    "vmax = visPara['max']\n",
    "\n",
    "# Map.add_legend(legend_title=\"ArcticDEM\",  layer_name=\"Arctic DEM\")\n",
    "Map.add_colorbar(colors=colors, vmin=vmin, vmax=vmax, caption=\"m a.s.l\")"
   ]
  },
  {
   "cell_type": "code",
   "execution_count": 22,
   "metadata": {},
   "outputs": [],
   "source": [
    "Map.add_minimap(zoom=1)"
   ]
  }
 ]
}