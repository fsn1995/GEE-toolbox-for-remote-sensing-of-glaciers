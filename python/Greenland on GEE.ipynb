{
 "metadata": {
  "language_info": {
   "codemirror_mode": {
    "name": "ipython",
    "version": 3
   },
   "file_extension": ".py",
   "mimetype": "text/x-python",
   "name": "python",
   "nbconvert_exporter": "python",
   "pygments_lexer": "ipython3",
   "version": "3.8.0-final"
  },
  "orig_nbformat": 2,
  "kernelspec": {
   "name": "python3",
   "display_name": "Python 3",
   "language": "python"
  }
 },
 "nbformat": 4,
 "nbformat_minor": 2,
 "cells": [
  {
   "source": [
    "ArcticDEM"
   ],
   "cell_type": "markdown",
   "metadata": {}
  },
  {
   "cell_type": "code",
   "execution_count": 6,
   "metadata": {},
   "outputs": [],
   "source": [
    "import ee\n",
    "import geemap"
   ]
  },
  {
   "cell_type": "code",
   "execution_count": 5,
   "metadata": {},
   "outputs": [
    {
     "output_type": "display_data",
     "data": {
      "text/plain": "Map(center=[76.21, -41.32], controls=(WidgetControl(options=['position', 'transparent_bg'], widget=HBox(childr…",
      "application/vnd.jupyter.widget-view+json": {
       "version_major": 2,
       "version_minor": 0,
       "model_id": "02e8a2febfa840e38478e43056c90e51"
      }
     },
     "metadata": {}
    }
   ],
   "source": [
    "Map = geemap.Map(center=[76.21, -41.32], zoom=3)\n",
    "Map"
   ]
  },
  {
   "cell_type": "code",
   "execution_count": 9,
   "metadata": {},
   "outputs": [],
   "source": [
    "\n",
    "dataset = ee.Image('UMN/PGC/ArcticDEM/V3/2m_mosaic')\n",
    "elevation = dataset.select('elevation')\n",
    "elevationVis = {'min': -50.0,  'max': 1000.0, 'palette': ['0d13d8', '60e1ff', 'ffffff']}\n",
    "Map.addLayer(elevation, elevationVis, 'Elevation')"
   ]
  },
  {
   "cell_type": "code",
   "execution_count": null,
   "metadata": {},
   "outputs": [],
   "source": []
  }
 ]
}